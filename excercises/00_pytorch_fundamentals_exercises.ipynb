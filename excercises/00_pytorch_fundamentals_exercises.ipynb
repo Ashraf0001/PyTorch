{
  "cells": [
    {
      "cell_type": "markdown",
      "metadata": {
        "id": "AzDBM_v4iMe7"
      },
      "source": [
        "# 00. PyTorch Fundamentals Exercises\n",
        "\n",
        "### 1. Documentation reading \n",
        "\n",
        "A big part of deep learning (and learning to code in general) is getting familiar with the documentation of a certain framework you're using. We'll be using the PyTorch documentation a lot throughout the rest of this course. So I'd recommend spending 10-minutes reading the following (it's okay if you don't get some things for now, the focus is not yet full understanding, it's awareness):\n",
        "  * The documentation on [`torch.Tensor`](https://pytorch.org/docs/stable/tensors.html#torch-tensor).\n",
        "  * The documentation on [`torch.cuda`](https://pytorch.org/docs/master/notes/cuda.html#cuda-semantics).\n",
        "\n"
      ]
    },
    {
      "cell_type": "code",
      "execution_count": 1,
      "metadata": {
        "id": "bGD0oD8Kizak"
      },
      "outputs": [],
      "source": [
        "# No code solution (reading)"
      ]
    },
    {
      "cell_type": "markdown",
      "metadata": {
        "id": "__iXqqz-ioUJ"
      },
      "source": [
        "### 2. Create a random tensor with shape `(7, 7)`.\n"
      ]
    },
    {
      "cell_type": "code",
      "execution_count": 3,
      "metadata": {
        "id": "6pUq9Dc8i2L7"
      },
      "outputs": [
        {
          "data": {
            "text/plain": [
              "tensor([[0.3797, 0.2177, 0.3318, 0.5851, 0.5541, 0.7398, 0.9544],\n",
              "        [0.4131, 0.3156, 0.3072, 0.0316, 0.7240, 0.6481, 0.5512],\n",
              "        [0.0115, 0.6618, 0.7192, 0.5632, 0.2626, 0.2249, 0.9812],\n",
              "        [0.4320, 0.2416, 0.2796, 0.6424, 0.0214, 0.5456, 0.0895],\n",
              "        [0.4278, 0.2983, 0.6717, 0.6752, 0.3296, 0.5953, 0.3437],\n",
              "        [0.5791, 0.5046, 0.6611, 0.2274, 0.4242, 0.6995, 0.8836],\n",
              "        [0.2364, 0.7553, 0.8330, 0.0578, 0.1464, 0.3263, 0.5083]])"
            ]
          },
          "execution_count": 3,
          "metadata": {},
          "output_type": "execute_result"
        }
      ],
      "source": [
        "# Import torch\n",
        "\n",
        "import torch\n",
        "\n",
        "\n",
        "# Create random tensor\n",
        "\n",
        "random_tensor = torch.rand(size=(7,7))\n",
        "random_tensor\n"
      ]
    },
    {
      "cell_type": "markdown",
      "metadata": {
        "id": "9-XxvRLfiqkR"
      },
      "source": [
        "### 3. Perform a matrix multiplication on the tensor from 2 with another random tensor with shape `(1, 7)` (hint: you may have to transpose the second tensor)."
      ]
    },
    {
      "cell_type": "code",
      "execution_count": 8,
      "metadata": {
        "id": "NcLqR0Sbi_vT"
      },
      "outputs": [
        {
          "name": "stdout",
          "output_type": "stream",
          "text": [
            "tensor([[0.4856],\n",
            "        [0.7997],\n",
            "        [0.1021],\n",
            "        [0.5438],\n",
            "        [0.9349],\n",
            "        [0.7787],\n",
            "        [0.3865]])\n"
          ]
        },
        {
          "data": {
            "text/plain": [
              "tensor([[2.1737],\n",
              "        [1.8962],\n",
              "        [1.7144],\n",
              "        [1.2603],\n",
              "        [1.7866],\n",
              "        [2.1587],\n",
              "        [1.4227]])"
            ]
          },
          "execution_count": 8,
          "metadata": {},
          "output_type": "execute_result"
        }
      ],
      "source": [
        "# Create another random tensor\n",
        "\n",
        "random_tensor_2 = torch.rand(size=(1,7))\n",
        "\n",
        "ran_trans = random_tensor_2.T\n",
        "print(ran_trans)\n",
        "\n",
        "elementwise_mul = random_tensor * ran_trans\n",
        "\n",
        "\n",
        "# Perform matrix multiplication \n",
        "MATRIX_mul = random_tensor @ ran_trans        # two ways you can do matrix multipication \n",
        "MATRIX_mul_2 = torch.matmul(random_tensor, ran_trans)    # using torch.matmul function \n",
        "MATRIX_mul_2\n"
      ]
    },
    {
      "cell_type": "markdown",
      "metadata": {
        "id": "eiutdKUFiryU"
      },
      "source": [
        "### 4. Set the random seed to `0` and do 2 & 3 over again.\n",
        "\n",
        "The output should be:\n",
        "```\n",
        "(tensor([[1.8542],\n",
        "         [1.9611],\n",
        "         [2.2884],\n",
        "         [3.0481],\n",
        "         [1.7067],\n",
        "         [2.5290],\n",
        "         [1.7989]]), torch.Size([7, 1]))\n",
        "```"
      ]
    },
    {
      "cell_type": "code",
      "execution_count": 11,
      "metadata": {
        "id": "D-lOWI_1jRMm"
      },
      "outputs": [
        {
          "data": {
            "text/plain": [
              "tensor([[1.8822, 2.3650, 1.8172],\n",
              "        [1.0925, 1.5372, 1.2230],\n",
              "        [1.2766, 2.2093, 1.6718]])"
            ]
          },
          "execution_count": 11,
          "metadata": {},
          "output_type": "execute_result"
        }
      ],
      "source": [
        "import random \n",
        "\n",
        "# Set manual seed\n",
        "RANDOM_SEED = 42\n",
        "\n",
        "\n",
        "\n",
        "# Create two random tensors\n",
        "\n",
        "#setting seed \n",
        "\n",
        "torch.manual_seed(seed=RANDOM_SEED)\n",
        "\n",
        "\n",
        "tensor_1 = torch.rand(3,4)\n",
        "\n",
        "# setting seed again \n",
        "torch.manual_seed(seed=RANDOM_SEED)\n",
        "\n",
        "tensor_2 = torch.rand(4,3)\n",
        "\n",
        "\n",
        "# Matrix multiply tensors\n",
        "\n",
        "mat_product = torch.matmul(tensor_1, tensor_2)\n",
        "\n",
        "mat_product \n"
      ]
    },
    {
      "cell_type": "code",
      "execution_count": 12,
      "metadata": {},
      "outputs": [
        {
          "data": {
            "text/plain": [
              "tensor([[1.8822, 2.3650, 1.8172],\n",
              "        [1.0925, 1.5372, 1.2230],\n",
              "        [1.2766, 2.2093, 1.6718]])"
            ]
          },
          "execution_count": 12,
          "metadata": {},
          "output_type": "execute_result"
        }
      ],
      "source": [
        "mat_product = torch.matmul(tensor_1, tensor_2)     # same result we will find, since we set the seed \n",
        "mat_product          # seed is an awesome way to ensure the reproducibilty "
      ]
    },
    {
      "cell_type": "code",
      "execution_count": 13,
      "metadata": {},
      "outputs": [],
      "source": [
        "if torch.cuda.is_available():\n",
        "    device = \"cuda\" # Use NVIDIA GPU (if available)\n",
        "elif torch.backends.mps.is_available():\n",
        "    device = \"mps\" # Use Apple Silicon GPU (if available)\n",
        "else:\n",
        "    device = \"cpu\" # Default to CPU if no GPU is available"
      ]
    },
    {
      "cell_type": "markdown",
      "metadata": {
        "id": "ezY6ks9Cis37"
      },
      "source": [
        "### 5. Speaking of random seeds, we saw how to set it with `torch.manual_seed()` but is there a GPU equivalent? (hint: you'll need to look into the documentation for `torch.cuda` for this one)\n",
        "  * If there is, set the GPU random seed to `1234`."
      ]
    },
    {
      "cell_type": "code",
      "execution_count": 17,
      "metadata": {
        "id": "_LKWcfSTjp00"
      },
      "outputs": [
        {
          "name": "stdout",
          "output_type": "stream",
          "text": [
            "tensor([1, 2, 3]) cpu\n"
          ]
        },
        {
          "data": {
            "text/plain": [
              "(tensor([1, 2, 3]), device(type='cpu'))"
            ]
          },
          "execution_count": 17,
          "metadata": {},
          "output_type": "execute_result"
        }
      ],
      "source": [
        "# Set random seed on the GPU\n",
        "\n",
        "tensor = torch.tensor([1, 2, 3])\n",
        "\n",
        "print(tensor, tensor.device)\n",
        "\n",
        "tensor_on_gpu = tensor.to(device)\n",
        "tensor_on_gpu\n",
        "\n",
        "tensor_back_cpu = tensor_on_gpu.cpu()\n",
        "\n",
        "tensor_back_cpu, tensor_back_cpu.device\n",
        "\n"
      ]
    },
    {
      "cell_type": "markdown",
      "metadata": {
        "id": "Ir9qSaj6it4n"
      },
      "source": [
        "\n",
        "### 6. Create two random tensors of shape `(2, 3)` and send them both to the GPU (you'll need access to a GPU for this). Set `torch.manual_seed(1234)` when creating the tensors (this doesn't have to be the GPU random seed). The output should be something like:\n",
        "\n",
        "```\n",
        "Device: cuda\n",
        "(tensor([[0.0290, 0.4019, 0.2598],\n",
        "         [0.3666, 0.0583, 0.7006]], device='cuda:0'),\n",
        " tensor([[0.0518, 0.4681, 0.6738],\n",
        "         [0.3315, 0.7837, 0.5631]], device='cuda:0'))\n",
        "```"
      ]
    },
    {
      "cell_type": "code",
      "execution_count": 34,
      "metadata": {
        "id": "azXExiFZj5nm"
      },
      "outputs": [
        {
          "name": "stdout",
          "output_type": "stream",
          "text": [
            "tensor([[0.0290, 0.4019, 0.2598, 0.3666],\n",
            "        [0.0583, 0.7006, 0.0518, 0.4681],\n",
            "        [0.6738, 0.3315, 0.7837, 0.5631]])\n",
            "tensor([[0.7749, 0.8208, 0.2793, 0.6817],\n",
            "        [0.2837, 0.6567, 0.2388, 0.7313],\n",
            "        [0.6012, 0.3043, 0.2548, 0.6294]])\n"
          ]
        },
        {
          "data": {
            "text/plain": [
              "(tensor(1.3969, device='mps:0'),\n",
              " tensor(0.4367, device='mps:0'),\n",
              " tensor(6, device='mps:0'),\n",
              " tensor(2, device='mps:0'),\n",
              " tensor(0.8355, device='mps:0'))"
            ]
          },
          "execution_count": 34,
          "metadata": {},
          "output_type": "execute_result"
        }
      ],
      "source": [
        "# Set random seed\n",
        "\n",
        "torch.manual_seed(1234)\n",
        "\n",
        "\"\"\"\n",
        "    creating two random tensors in gpu \n",
        "    settiing manual seed for reproducibility \n",
        "\n",
        "    sent both of the tensors into the gpu \n",
        "    then performed the matrix multipication into gpu \n",
        "\n",
        "\n",
        "\"\"\"\n",
        "\n",
        "tensor1 = torch.rand(3,4)\n",
        "gpu_tensor1= tensor1.to(device)\n",
        "\n",
        "\n",
        "tensor2 = torch.rand(3,4)\n",
        "gpu_tensor2= tensor2.to(device)\n",
        "gpu_tensor_3 = gpu_tensor2.T\n",
        "\n",
        "gpu_tensor1, gpu_tensor2\n",
        "\n",
        "#performing matrix multipication \n",
        "\n",
        "mat_mul = torch.matmul(gpu_tensor1, gpu_tensor_3)\n",
        "mat_mul\n",
        "print( tensor1)\n",
        "print(tensor2)\n",
        "mat_mul\n",
        "\n",
        "max_value = mat_mul.max()\n",
        "min_value = mat_mul.min()\n",
        "\n",
        "arg_max = mat_mul.argmax()\n",
        "arg_min = mat_mul.argmin()\n",
        "\n",
        "mean_value = mat_mul.mean()\n",
        "\n",
        "max_value, min_value, arg_max, arg_min, mean_value\n",
        "\n"
      ]
    },
    {
      "cell_type": "code",
      "execution_count": null,
      "metadata": {},
      "outputs": [],
      "source": []
    },
    {
      "cell_type": "markdown",
      "metadata": {
        "id": "5TlAxeiSiu1y"
      },
      "source": [
        "\n",
        "### 7. Perform a matrix multiplication on the tensors you created in 6 (again, you may have to adjust the shapes of one of the tensors).\n",
        "\n",
        "The output should look like:\n",
        "```\n",
        "(tensor([[0.3647, 0.4709],\n",
        "         [0.5184, 0.5617]], device='cuda:0'), torch.Size([2, 2]))\n",
        "```"
      ]
    },
    {
      "cell_type": "code",
      "execution_count": 7,
      "metadata": {
        "id": "fAeG7ox0lHEO"
      },
      "outputs": [],
      "source": [
        "# Perform matmul on tensor_A and tensor_B\n",
        "\n",
        "#done\n"
      ]
    },
    {
      "cell_type": "markdown",
      "metadata": {
        "id": "G7qfa5CSivwg"
      },
      "source": [
        "### 8. Find the maximum and minimum values of the output of 7."
      ]
    },
    {
      "cell_type": "code",
      "execution_count": 8,
      "metadata": {
        "id": "Fu8_3mZpllOd"
      },
      "outputs": [],
      "source": [
        "# Find max\n",
        "\n",
        "# Find min\n"
      ]
    },
    {
      "cell_type": "markdown",
      "metadata": {
        "id": "wrTj5FgNiw47"
      },
      "source": [
        "### 9. Find the maximum and minimum index values of the output of 7."
      ]
    },
    {
      "cell_type": "code",
      "execution_count": 9,
      "metadata": {
        "id": "CCEKt4K2lsfQ"
      },
      "outputs": [],
      "source": [
        "# Find arg max\n",
        "\n",
        "\n",
        "# Find arg min\n"
      ]
    },
    {
      "cell_type": "markdown",
      "metadata": {
        "id": "hmeybz4uixy7"
      },
      "source": [
        "\n",
        "### 10. Make a random tensor with shape `(1, 1, 1, 10)` and then create a new tensor with all the `1` dimensions removed to be left with a tensor of shape `(10)`. Set the seed to `7` when you create it and print out the first tensor and it's shape as well as the second tensor and it's shape.\n",
        "\n",
        "The output should look like:\n",
        "\n",
        "```\n",
        "tensor([[[[0.5349, 0.1988, 0.6592, 0.6569, 0.2328, 0.4251, 0.2071, 0.6297,\n",
        "           0.3653, 0.8513]]]]) torch.Size([1, 1, 1, 10])\n",
        "tensor([0.5349, 0.1988, 0.6592, 0.6569, 0.2328, 0.4251, 0.2071, 0.6297, 0.3653,\n",
        "        0.8513]) torch.Size([10])\n",
        "```"
      ]
    },
    {
      "cell_type": "code",
      "execution_count": 10,
      "metadata": {
        "id": "TQ9zbRzVl1jV"
      },
      "outputs": [],
      "source": [
        "# Set seed\n",
        "\n",
        "\n",
        "# Create random tensor\n",
        "\n",
        "\n",
        "# Remove single dimensions\n",
        "\n",
        "#this one needs to be done, this is a bit complicated to me \n",
        "\n",
        "\n",
        "# Print out tensors and their shapes\n"
      ]
    }
  ],
  "metadata": {
    "accelerator": "GPU",
    "colab": {
      "collapsed_sections": [],
      "name": "00_pytorch_fundamentals_exercises.ipynb",
      "provenance": []
    },
    "kernelspec": {
      "display_name": "Python 3",
      "name": "python3"
    },
    "language_info": {
      "codemirror_mode": {
        "name": "ipython",
        "version": 3
      },
      "file_extension": ".py",
      "mimetype": "text/x-python",
      "name": "python",
      "nbconvert_exporter": "python",
      "pygments_lexer": "ipython3",
      "version": "3.10.2"
    }
  },
  "nbformat": 4,
  "nbformat_minor": 0
}
